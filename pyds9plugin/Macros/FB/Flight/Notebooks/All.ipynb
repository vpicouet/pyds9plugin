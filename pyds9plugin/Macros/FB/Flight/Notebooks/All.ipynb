{
 "cells": [
  {
   "cell_type": "code",
   "execution_count": 3,
   "metadata": {},
   "outputs": [
    {
     "ename": "NameError",
     "evalue": "name 'wavelengths' is not defined",
     "output_type": "error",
     "traceback": [
      "\u001b[0;31m---------------------------------------------------------------------------\u001b[0m",
      "\u001b[0;31mNameError\u001b[0m                                 Traceback (most recent call last)",
      "Cell \u001b[0;32mIn[3], line 24\u001b[0m\n\u001b[1;32m     22\u001b[0m colors \u001b[38;5;241m=\u001b[39m [\u001b[38;5;124m'\u001b[39m\u001b[38;5;124mb\u001b[39m\u001b[38;5;124m'\u001b[39m, \u001b[38;5;124m'\u001b[39m\u001b[38;5;124mg\u001b[39m\u001b[38;5;124m'\u001b[39m, \u001b[38;5;124m'\u001b[39m\u001b[38;5;124mr\u001b[39m\u001b[38;5;124m'\u001b[39m, \u001b[38;5;124m'\u001b[39m\u001b[38;5;124mpurple\u001b[39m\u001b[38;5;124m'\u001b[39m]\n\u001b[1;32m     23\u001b[0m \u001b[38;5;28;01mfor\u001b[39;00m i, alt \u001b[38;5;129;01min\u001b[39;00m \u001b[38;5;28menumerate\u001b[39m(altitudes):\n\u001b[0;32m---> 24\u001b[0m     plt\u001b[38;5;241m.\u001b[39mplot(wavelengths, atm_trans_data[trans_columns[i]], label\u001b[38;5;241m=\u001b[39m\u001b[38;5;124mf\u001b[39m\u001b[38;5;124m\"\u001b[39m\u001b[38;5;132;01m{\u001b[39;00malt\u001b[38;5;132;01m}\u001b[39;00m\u001b[38;5;124m km\u001b[39m\u001b[38;5;124m\"\u001b[39m, color\u001b[38;5;241m=\u001b[39mcolors[i])\n\u001b[1;32m     26\u001b[0m \u001b[38;5;66;03m# Overlay throughput with fill_between\u001b[39;00m\n\u001b[1;32m     27\u001b[0m plt\u001b[38;5;241m.\u001b[39mfill_between(throughput_wavelengths, throughput_values, color\u001b[38;5;241m=\u001b[39m\u001b[38;5;124m'\u001b[39m\u001b[38;5;124mgray\u001b[39m\u001b[38;5;124m'\u001b[39m, alpha\u001b[38;5;241m=\u001b[39m\u001b[38;5;241m0.3\u001b[39m, label\u001b[38;5;241m=\u001b[39m\u001b[38;5;124m\"\u001b[39m\u001b[38;5;124mInstrument Throughput\u001b[39m\u001b[38;5;124m\"\u001b[39m)\n",
      "\u001b[0;31mNameError\u001b[0m: name 'wavelengths' is not defined"
     ]
    },
    {
     "data": {
      "text/plain": [
       "<Figure size 800x600 with 0 Axes>"
      ]
     },
     "metadata": {},
     "output_type": "display_data"
    }
   ],
   "source": [
    "\n",
    "\n",
    "import pandas as pd\n",
    "import matplotlib.pyplot as plt\n",
    "\n",
    "# File paths\n",
    "atm_trans_file = \"/Users/Vincent/Nextcloud/LAM_new_account/FIREBALL/TestsFTS2018-Flight/Flight/Other_data/AtmTrans_wave_180-239-0.0100nm_Alt_25-40.csv\"\n",
    "throughput_file = \"/Users/Vincent/Github/fireball2-etc/data/Instruments/FIREBall-2_2025/Throughput.csv\"\n",
    "\n",
    "# Load the files to inspect their contents\n",
    "atm_trans_data = pd.read_csv(atm_trans_file)\n",
    "throughput_data = pd.read_csv(throughput_file)\n",
    "\n",
    "\n",
    "# Trim whitespace from column names\n",
    "throughput_data.columns = throughput_data.columns.str.strip()\n",
    "\n",
    "# Extract throughput data again\n",
    "throughput_wavelengths = throughput_data[\"wave\"]\n",
    "throughput_values = throughput_data[\"QE_corr\"]\n",
    "altitudes = [26.,30] \n",
    "# Plot transmission curves\n",
    "plt.figure(figsize=(8, 6))\n",
    "colors = ['b', 'g', 'r', 'purple']\n",
    "for i, alt in enumerate(altitudes):\n",
    "    plt.plot(wavelengths, atm_trans_data[trans_columns[i]], label=f\"{alt} km\", color=colors[i])\n",
    "\n",
    "# Overlay throughput with fill_between\n",
    "plt.fill_between(throughput_wavelengths, throughput_values, color='gray', alpha=0.3, label=\"Instrument Throughput\")\n",
    "\n",
    "# Labels and legend\n",
    "plt.xlabel(\"Wavelength (nm)\")\n",
    "plt.ylabel(\"Transmission / Throughput\")\n",
    "plt.title(\"Atmospheric Transmission and Instrument Throughput\")\n",
    "plt.legend()\n",
    "plt.grid(True)\n",
    "\n",
    "# Show plot\n",
    "plt.show()"
   ]
  },
  {
   "cell_type": "code",
   "execution_count": null,
   "metadata": {},
   "outputs": [],
   "source": []
  }
 ],
 "metadata": {
  "kernelspec": {
   "display_name": "py312",
   "language": "python",
   "name": "python3"
  },
  "language_info": {
   "codemirror_mode": {
    "name": "ipython",
    "version": 3
   },
   "file_extension": ".py",
   "mimetype": "text/x-python",
   "name": "python",
   "nbconvert_exporter": "python",
   "pygments_lexer": "ipython3",
   "version": "3.12.4"
  }
 },
 "nbformat": 4,
 "nbformat_minor": 2
}
