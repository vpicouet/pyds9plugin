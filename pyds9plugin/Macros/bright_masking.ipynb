{
 "cells": [
  {
   "cell_type": "code",
   "execution_count": null,
   "metadata": {},
   "outputs": [],
   "source": [
    "import numpy as np\n",
    "from scipy.ndimage import grey_dilation, binary_erosion\n",
    "\n",
    "T = np.percentile(ds9,90)\n",
    "EROSION, DILATATION = 10, 10\n",
    "\n",
    "ds9[ds9 < T] = 0\n",
    "ds9[ds9 > T] = 1\n",
    "ds9 = binary_erosion(ds9, structure=np.ones((EROSION,EROSION))).astype(int)\n",
    "ds9 = grey_dilation(ds9, size=(DILATATION, DILATATION))"
   ]
  }
 ],
 "metadata": {
  "language_info": {
   "name": "python"
  },
  "orig_nbformat": 4
 },
 "nbformat": 4,
 "nbformat_minor": 2
}
